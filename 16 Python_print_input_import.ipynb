{
 "cells": [
  {
   "cell_type": "markdown",
   "id": "401b39c1",
   "metadata": {},
   "source": [
    "# print() function"
   ]
  },
  {
   "cell_type": "code",
   "execution_count": null,
   "id": "66bfc8b1",
   "metadata": {},
   "outputs": [],
   "source": [
    "#Format for print inbuilt in function \n",
    "#print(*objects, sep=' ', end='\\n', file=sys.stdout, flush=False)"
   ]
  },
  {
   "cell_type": "code",
   "execution_count": 2,
   "id": "f72a3d38",
   "metadata": {},
   "outputs": [
    {
     "name": "stdout",
     "output_type": "stream",
     "text": [
      "hfkdhjh2635873685!!@@#$%%%\n"
     ]
    }
   ],
   "source": [
    "print('hfkdhjh2635873685!!@@#$%%%')"
   ]
  },
  {
   "cell_type": "code",
   "execution_count": 3,
   "id": "a266bd30",
   "metadata": {},
   "outputs": [
    {
     "name": "stdout",
     "output_type": "stream",
     "text": [
      "hey hi, can you able to see my sentence?!\n"
     ]
    }
   ],
   "source": [
    "#to print the simple sentence\n",
    "print(\"hey hi, can you able to see my sentence?!\")"
   ]
  },
  {
   "cell_type": "code",
   "execution_count": 4,
   "id": "5a3da437",
   "metadata": {},
   "outputs": [
    {
     "name": "stdout",
     "output_type": "stream",
     "text": [
      "what is the programming language that we are learning? python\n"
     ]
    }
   ],
   "source": [
    "#another way to assign the values and print\n",
    "name = 'python'\n",
    "print('what is the programming language that we are learning?',name)"
   ]
  },
  {
   "cell_type": "code",
   "execution_count": 7,
   "id": "e6e07149",
   "metadata": {},
   "outputs": [
    {
     "name": "stdout",
     "output_type": "stream",
     "text": [
      "2 5.0 (3+6j) 5468\n",
      "2*5.0*(3+6j)*5468\n",
      "2#5.0#(3+6j)#5468%"
     ]
    }
   ],
   "source": [
    "#different statements with print function parameters\n",
    "print(2,5.0,3+6j, 5468)\n",
    "print(2,5.0,3+6j, 5468, sep='*')\n",
    "print(2,5.0,3+6j, 5468, sep='#', end='%')"
   ]
  },
  {
   "cell_type": "markdown",
   "id": "655f8f6e",
   "metadata": {},
   "source": [
    "# print() - modification"
   ]
  },
  {
   "cell_type": "code",
   "execution_count": 8,
   "id": "e02dfa8a",
   "metadata": {},
   "outputs": [
    {
     "name": "stdout",
     "output_type": "stream",
     "text": [
      "My childrens name are as follows, son name is Nikhilesh and daughter name is Krithiksha\n"
     ]
    }
   ],
   "source": [
    "#{} act as placeholders\n",
    "son = 'Nikhilesh'; daughter = 'Krithiksha'\n",
    "print('My childrens name are as follows, son name is {} and daughter name is {}'.format(son,daughter))"
   ]
  },
  {
   "cell_type": "code",
   "execution_count": 9,
   "id": "b1244984",
   "metadata": {},
   "outputs": [
    {
     "name": "stdout",
     "output_type": "stream",
     "text": [
      "My childrens name are as follows, son name is Krithiksha and daughter name is Nikhilesh\n"
     ]
    }
   ],
   "source": [
    "#{} act as placeholders\n",
    "son = 'Nikhilesh'; daughter = 'Krithiksha'\n",
    "print('My childrens name are as follows, son name is {} and daughter name is {}'.format(daughter,son))"
   ]
  },
  {
   "cell_type": "code",
   "execution_count": 10,
   "id": "eb29fe22",
   "metadata": {},
   "outputs": [
    {
     "name": "stdout",
     "output_type": "stream",
     "text": [
      "I love my bhubhu and pinky\n",
      "I love my pinky and bhubhu\n"
     ]
    }
   ],
   "source": [
    "#another way of modifications are by inserting index of tuple datatype\n",
    "print('I love my {0} and {1}'.format('bhubhu','pinky'))\n",
    "print('I love my {1} and {0}'.format('bhubhu','pinky'))"
   ]
  },
  {
   "cell_type": "code",
   "execution_count": 11,
   "id": "50d4f870",
   "metadata": {},
   "outputs": [
    {
     "name": "stdout",
     "output_type": "stream",
     "text": [
      "Hello rajasekar, Goodevening welcome to my class\n"
     ]
    }
   ],
   "source": [
    "#another way of modification are as\n",
    "print('Hello {name}, {greeting} welcome to my class'.format(greeting = 'Goodevening', name = 'rajasekar'))"
   ]
  },
  {
   "cell_type": "code",
   "execution_count": 14,
   "id": "81ec0320",
   "metadata": {},
   "outputs": [
    {
     "name": "stdout",
     "output_type": "stream",
     "text": [
      "The accuracy of my experiment is 95.865\n"
     ]
    }
   ],
   "source": [
    "#modifications with numbers\n",
    "my_acc = 95.864975 \n",
    "print('The accuracy of my experiment is %0.3f' %my_acc)"
   ]
  },
  {
   "cell_type": "markdown",
   "id": "7384f71e",
   "metadata": {},
   "source": [
    "# Input() "
   ]
  },
  {
   "cell_type": "code",
   "execution_count": null,
   "id": "48741529",
   "metadata": {},
   "outputs": [],
   "source": [
    "#format for input function\n",
    "#input([prompt])"
   ]
  },
  {
   "cell_type": "code",
   "execution_count": 15,
   "id": "f4e9e43d",
   "metadata": {},
   "outputs": [
    {
     "name": "stdout",
     "output_type": "stream",
     "text": [
      "What is your name?Premanand\n"
     ]
    }
   ],
   "source": [
    "ask_name = input('What is your name?')"
   ]
  },
  {
   "cell_type": "code",
   "execution_count": 17,
   "id": "4e0cf681",
   "metadata": {},
   "outputs": [
    {
     "data": {
      "text/plain": [
       "str"
      ]
     },
     "execution_count": 17,
     "metadata": {},
     "output_type": "execute_result"
    }
   ],
   "source": [
    "type(ask_name)"
   ]
  },
  {
   "cell_type": "code",
   "execution_count": 16,
   "id": "1049976e",
   "metadata": {},
   "outputs": [
    {
     "name": "stdout",
     "output_type": "stream",
     "text": [
      "What is your age?38\n"
     ]
    }
   ],
   "source": [
    "age = input('What is your age?') #''\"\""
   ]
  },
  {
   "cell_type": "code",
   "execution_count": 18,
   "id": "c2f4578e",
   "metadata": {},
   "outputs": [
    {
     "data": {
      "text/plain": [
       "str"
      ]
     },
     "execution_count": 18,
     "metadata": {},
     "output_type": "execute_result"
    }
   ],
   "source": [
    "type(age)"
   ]
  },
  {
   "cell_type": "code",
   "execution_count": 19,
   "id": "a157b671",
   "metadata": {},
   "outputs": [
    {
     "name": "stdout",
     "output_type": "stream",
     "text": [
      "38\n"
     ]
    }
   ],
   "source": [
    "print(age) # 38 '38'"
   ]
  },
  {
   "cell_type": "code",
   "execution_count": 20,
   "id": "5631be8f",
   "metadata": {},
   "outputs": [
    {
     "ename": "TypeError",
     "evalue": "can only concatenate str (not \"int\") to str",
     "output_type": "error",
     "traceback": [
      "\u001b[1;31m---------------------------------------------------------------------------\u001b[0m",
      "\u001b[1;31mTypeError\u001b[0m                                 Traceback (most recent call last)",
      "Cell \u001b[1;32mIn[20], line 1\u001b[0m\n\u001b[1;32m----> 1\u001b[0m age\u001b[38;5;241m+\u001b[39m\u001b[38;5;241m2\u001b[39m\n",
      "\u001b[1;31mTypeError\u001b[0m: can only concatenate str (not \"int\") to str"
     ]
    }
   ],
   "source": [
    "age+2 #'38'+2 //////38+2"
   ]
  },
  {
   "cell_type": "code",
   "execution_count": 21,
   "id": "1ad2e870",
   "metadata": {},
   "outputs": [
    {
     "name": "stdout",
     "output_type": "stream",
     "text": [
      "what is your age?38\n"
     ]
    }
   ],
   "source": [
    "age_num = input('what is your age?')"
   ]
  },
  {
   "cell_type": "code",
   "execution_count": 22,
   "id": "cdda96e1",
   "metadata": {},
   "outputs": [
    {
     "data": {
      "text/plain": [
       "str"
      ]
     },
     "execution_count": 22,
     "metadata": {},
     "output_type": "execute_result"
    }
   ],
   "source": [
    "type(age_num)"
   ]
  },
  {
   "cell_type": "code",
   "execution_count": 23,
   "id": "d6df399c",
   "metadata": {},
   "outputs": [
    {
     "data": {
      "text/plain": [
       "'38'"
      ]
     },
     "execution_count": 23,
     "metadata": {},
     "output_type": "execute_result"
    }
   ],
   "source": [
    "age_num"
   ]
  },
  {
   "cell_type": "code",
   "execution_count": 24,
   "id": "45866fd3",
   "metadata": {},
   "outputs": [
    {
     "name": "stdout",
     "output_type": "stream",
     "text": [
      "what is your age?38\n"
     ]
    }
   ],
   "source": [
    "age_num = int(input('what is your age?')) #to get the value as numbers instead of strings, you can use float also"
   ]
  },
  {
   "cell_type": "code",
   "execution_count": 25,
   "id": "1a028877",
   "metadata": {},
   "outputs": [
    {
     "data": {
      "text/plain": [
       "38"
      ]
     },
     "execution_count": 25,
     "metadata": {},
     "output_type": "execute_result"
    }
   ],
   "source": [
    "age_num"
   ]
  },
  {
   "cell_type": "code",
   "execution_count": 26,
   "id": "9798ad19",
   "metadata": {},
   "outputs": [
    {
     "data": {
      "text/plain": [
       "int"
      ]
     },
     "execution_count": 26,
     "metadata": {},
     "output_type": "execute_result"
    }
   ],
   "source": [
    "type(age_num)"
   ]
  },
  {
   "cell_type": "code",
   "execution_count": 27,
   "id": "23fa00e7",
   "metadata": {},
   "outputs": [
    {
     "name": "stdout",
     "output_type": "stream",
     "text": [
      "what is your age?38\n"
     ]
    }
   ],
   "source": [
    "age_num = float(input('what is your age?')) #to get the value as numbers instead of strings, you can use float also"
   ]
  },
  {
   "cell_type": "code",
   "execution_count": 28,
   "id": "c274d43a",
   "metadata": {},
   "outputs": [
    {
     "data": {
      "text/plain": [
       "38.0"
      ]
     },
     "execution_count": 28,
     "metadata": {},
     "output_type": "execute_result"
    }
   ],
   "source": [
    "age_num"
   ]
  },
  {
   "cell_type": "code",
   "execution_count": 29,
   "id": "d3234b05",
   "metadata": {},
   "outputs": [
    {
     "data": {
      "text/plain": [
       "float"
      ]
     },
     "execution_count": 29,
     "metadata": {},
     "output_type": "execute_result"
    }
   ],
   "source": [
    "type(age_num)"
   ]
  },
  {
   "cell_type": "code",
   "execution_count": 30,
   "id": "3f2fea4c",
   "metadata": {},
   "outputs": [
    {
     "name": "stdout",
     "output_type": "stream",
     "text": [
      "what is your name?Premanand\n"
     ]
    },
    {
     "ename": "ValueError",
     "evalue": "could not convert string to float: 'Premanand'",
     "output_type": "error",
     "traceback": [
      "\u001b[1;31m---------------------------------------------------------------------------\u001b[0m",
      "\u001b[1;31mValueError\u001b[0m                                Traceback (most recent call last)",
      "Cell \u001b[1;32mIn[30], line 1\u001b[0m\n\u001b[1;32m----> 1\u001b[0m age_num \u001b[38;5;241m=\u001b[39m \u001b[38;5;28mfloat\u001b[39m(\u001b[38;5;28minput\u001b[39m(\u001b[38;5;124m'\u001b[39m\u001b[38;5;124mwhat is your name?\u001b[39m\u001b[38;5;124m'\u001b[39m))\n",
      "\u001b[1;31mValueError\u001b[0m: could not convert string to float: 'Premanand'"
     ]
    }
   ],
   "source": [
    "age_num = float(input('what is your name?')) #to get the value as numbers instead of strings, you can use float also"
   ]
  },
  {
   "cell_type": "markdown",
   "id": "ef2008f5",
   "metadata": {},
   "source": [
    "# Import"
   ]
  },
  {
   "cell_type": "code",
   "execution_count": 31,
   "id": "0e7d8fbf",
   "metadata": {},
   "outputs": [],
   "source": [
    "#simple module\n",
    "import math"
   ]
  },
  {
   "cell_type": "code",
   "execution_count": 32,
   "id": "ccc442ce",
   "metadata": {},
   "outputs": [
    {
     "name": "stdout",
     "output_type": "stream",
     "text": [
      "3.141592653589793\n"
     ]
    }
   ],
   "source": [
    "#for pi value\n",
    "print(math.pi)"
   ]
  },
  {
   "cell_type": "code",
   "execution_count": 33,
   "id": "26d68743",
   "metadata": {},
   "outputs": [
    {
     "name": "stdout",
     "output_type": "stream",
     "text": [
      "2.718281828459045\n"
     ]
    }
   ],
   "source": [
    "#for eulers number\n",
    "print(math.e)"
   ]
  },
  {
   "cell_type": "code",
   "execution_count": 34,
   "id": "570e4b97",
   "metadata": {},
   "outputs": [
    {
     "name": "stdout",
     "output_type": "stream",
     "text": [
      "log(fabs(x), base) is : -0.9999999999999998\n"
     ]
    }
   ],
   "source": [
    "#natural logarithm of a given number\n",
    "number = 10e-2  # small value of of x    \n",
    "print('log(fabs(x), base) is :', math.log(math.fabs(number), 10))    "
   ]
  },
  {
   "cell_type": "code",
   "execution_count": 35,
   "id": "99fc3ded",
   "metadata": {},
   "outputs": [
    {
     "name": "stdout",
     "output_type": "stream",
     "text": [
      "log10(x) is : 1.0\n"
     ]
    }
   ],
   "source": [
    "#returns base 10 logarithm of the given number and called the standard logarithm\n",
    "x=10  # small value of of x    \n",
    "print('log10(x) is :', math.log10(x))   "
   ]
  },
  {
   "cell_type": "code",
   "execution_count": 36,
   "id": "cc45741f",
   "metadata": {},
   "outputs": [
    {
     "name": "stdout",
     "output_type": "stream",
     "text": [
      "The given number (x) is : 0.05\n",
      "e^x (using exp() function) is : 0.05127109637602412\n"
     ]
    }
   ],
   "source": [
    "#returns a floating-point number after raising e to the given number\n",
    "number = 5e-2  # small value of of x    \n",
    "print('The given number (x) is :', number)    \n",
    "print('e^x (using exp() function) is :', math.exp(number)-1)   "
   ]
  },
  {
   "cell_type": "code",
   "execution_count": 37,
   "id": "bd6a82cd",
   "metadata": {},
   "outputs": [
    {
     "name": "stdout",
     "output_type": "stream",
     "text": [
      "The power of number: 100.0\n"
     ]
    }
   ],
   "source": [
    "#returns the power of the x corresponding to the value of y. \n",
    "#If value of x is negative or y is not integer value than it raises a ValueError.\n",
    "number = math.pow(10,2)  \n",
    "print(\"The power of number:\",number)  "
   ]
  },
  {
   "cell_type": "code",
   "execution_count": 38,
   "id": "099dd92a",
   "metadata": {},
   "outputs": [
    {
     "name": "stdout",
     "output_type": "stream",
     "text": [
      "The floor value is: 10\n"
     ]
    }
   ],
   "source": [
    "#returns the floor value of the x. It returns the less than or equal value to x.\n",
    "number = math.floor(10.25201)  \n",
    "print(\"The floor value is:\",number)  "
   ]
  },
  {
   "cell_type": "code",
   "execution_count": 39,
   "id": "badac5dc",
   "metadata": {},
   "outputs": [
    {
     "name": "stdout",
     "output_type": "stream",
     "text": [
      "The modf of number: (0.5, 44.0)\n"
     ]
    }
   ],
   "source": [
    "#returns the fractional and integer parts of x. It carries the sign of x is float\n",
    "number = math.modf(44.5)  \n",
    "print(\"The modf of number:\",number)  "
   ]
  },
  {
   "cell_type": "code",
   "execution_count": 40,
   "id": "4d4b07ee",
   "metadata": {},
   "outputs": [
    {
     "name": "stdout",
     "output_type": "stream",
     "text": [
      "The factorial of number: 2\n"
     ]
    }
   ],
   "source": [
    "#method returns the factorial of the given number x. \n",
    "#If x is not integral, it raises a ValueError\n",
    "number = math.factorial(2)  \n",
    "print(\"The factorial of number:\",number)  "
   ]
  },
  {
   "cell_type": "code",
   "execution_count": 41,
   "id": "c0596cb4",
   "metadata": {},
   "outputs": [
    {
     "data": {
      "text/plain": [
       "['C:\\\\Users\\\\S.A.N\\\\Downloads\\\\Python - Own Material\\\\2 Basics of Python\\\\16 Python - print, input and import',\n",
       " 'C:\\\\Users\\\\S.A.N\\\\anaconda3\\\\python311.zip',\n",
       " 'C:\\\\Users\\\\S.A.N\\\\anaconda3\\\\DLLs',\n",
       " 'C:\\\\Users\\\\S.A.N\\\\anaconda3\\\\Lib',\n",
       " 'C:\\\\Users\\\\S.A.N\\\\anaconda3',\n",
       " '',\n",
       " 'C:\\\\Users\\\\S.A.N\\\\AppData\\\\Roaming\\\\Python\\\\Python311\\\\site-packages',\n",
       " 'C:\\\\Users\\\\S.A.N\\\\anaconda3\\\\Lib\\\\site-packages',\n",
       " 'C:\\\\Users\\\\S.A.N\\\\anaconda3\\\\Lib\\\\site-packages\\\\win32',\n",
       " 'C:\\\\Users\\\\S.A.N\\\\anaconda3\\\\Lib\\\\site-packages\\\\win32\\\\lib',\n",
       " 'C:\\\\Users\\\\S.A.N\\\\anaconda3\\\\Lib\\\\site-packages\\\\Pythonwin']"
      ]
     },
     "execution_count": 41,
     "metadata": {},
     "output_type": "execute_result"
    }
   ],
   "source": [
    "#our very own system specification\n",
    "import sys\n",
    "sys.path"
   ]
  },
  {
   "cell_type": "code",
   "execution_count": null,
   "id": "bfee4184",
   "metadata": {},
   "outputs": [],
   "source": []
  }
 ],
 "metadata": {
  "kernelspec": {
   "display_name": "Python 3 (ipykernel)",
   "language": "python",
   "name": "python3"
  },
  "language_info": {
   "codemirror_mode": {
    "name": "ipython",
    "version": 3
   },
   "file_extension": ".py",
   "mimetype": "text/x-python",
   "name": "python",
   "nbconvert_exporter": "python",
   "pygments_lexer": "ipython3",
   "version": "3.11.5"
  }
 },
 "nbformat": 4,
 "nbformat_minor": 5
}
