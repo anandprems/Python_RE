{
 "cells": [
  {
   "cell_type": "code",
   "execution_count": 13,
   "id": "f26da6ab",
   "metadata": {},
   "outputs": [
    {
     "name": "stdout",
     "output_type": "stream",
     "text": [
      "Welcome to Treasure Hunt Game!\n",
      "Your mission is to find the TREASURE!!\n",
      "Which direction do i need to proceed? Left / Right?\n",
      "right\n",
      "Fall into HOLE! GAME OVER!\n"
     ]
    }
   ],
   "source": [
    "# greeting msg\n",
    "print('Welcome to Treasure Hunt Game!')\n",
    "print('Your mission is to find the TREASURE!!')\n",
    "\n",
    "#first decision - user choice\n",
    "user_choice1 = input('Which direction do i need to proceed? Left / Right?\\n').lower() #LEFT, Left, left\n",
    "if user_choice1 =='left':\n",
    "    user_choice2 = input('Which process i need to do now? Swim / Wait?\\n').lower()\n",
    "    if user_choice2 =='wait':\n",
    "        user_choice3 =input('Which color door you preferred? Red? Yellow? or Blue or anything?\\n').lower()\n",
    "        if user_choice3 =='red':\n",
    "            print('Burned by FIRE: - GAME OVER!')\n",
    "        elif user_choice3 =='yellow':\n",
    "            print('Congrats - You Won the TREASURE!!!')\n",
    "        elif user_choice3 =='blue':\n",
    "            print('Eaten by BEAST! - GAME OVER!')\n",
    "        else:\n",
    "            print('Anycolor other than RED|Yellow|Blue - Its GAME OVER!')\n",
    "    else:\n",
    "        print('Attacked by TROUT! GAME OVER!')\n",
    "else:\n",
    "    print('Fall into HOLE! GAME OVER!')"
   ]
  },
  {
   "cell_type": "code",
   "execution_count": null,
   "id": "9e8a630f",
   "metadata": {},
   "outputs": [],
   "source": []
  }
 ],
 "metadata": {
  "kernelspec": {
   "display_name": "Python 3 (ipykernel)",
   "language": "python",
   "name": "python3"
  },
  "language_info": {
   "codemirror_mode": {
    "name": "ipython",
    "version": 3
   },
   "file_extension": ".py",
   "mimetype": "text/x-python",
   "name": "python",
   "nbconvert_exporter": "python",
   "pygments_lexer": "ipython3",
   "version": "3.11.5"
  }
 },
 "nbformat": 4,
 "nbformat_minor": 5
}
