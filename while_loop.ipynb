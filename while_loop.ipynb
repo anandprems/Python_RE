{
 "cells": [
  {
   "cell_type": "code",
   "execution_count": 4,
   "id": "f37dceac",
   "metadata": {},
   "outputs": [
    {
     "name": "stdout",
     "output_type": "stream",
     "text": [
      "Enter the number:\n",
      "10\n",
      "Sum of EVEN numbers from 1 to the user assigned number\n",
      " 30\n"
     ]
    }
   ],
   "source": [
    "# write a python program to find the sum of all even numbers from 1 to a given positive integer n\n",
    "\n",
    "#user input\n",
    "n_number = int(input('Enter the number:\\n'))\n",
    "\n",
    "#assume\n",
    "num =1 #numbers from 1 to a given positive integer n\n",
    "sum_ = 0 #find the sum of all even number 0+2\n",
    "\n",
    "#while_loop_condition\n",
    "while num<=n_number:\n",
    "    #even numbers num%2==0\n",
    "    if num%2 ==0:\n",
    "        sum_ = sum_+num\n",
    "    #upgradation - increament / decrement \n",
    "    num = num+1\n",
    "\n",
    "#final_display\n",
    "print('Sum of EVEN numbers from 1 to the user assigned number\\n', sum_)\n"
   ]
  },
  {
   "cell_type": "code",
   "execution_count": 6,
   "id": "edefb0e6",
   "metadata": {},
   "outputs": [
    {
     "name": "stdout",
     "output_type": "stream",
     "text": [
      "Enter the number:\n",
      "10\n",
      "FACTORIAL to the user assigned number\n",
      " 3628800\n"
     ]
    }
   ],
   "source": [
    "# write a python program to find the factorial of a given postive number n\n",
    "\n",
    "#user input\n",
    "n_number = int(input('Enter the number:\\n'))\n",
    "\n",
    "#assume\n",
    "num =1 #given postive number n\n",
    "factorial =1  #\n",
    "\n",
    "#while_loop_condition\n",
    "while num<=n_number:\n",
    "    factorial = factorial*num\n",
    "   \n",
    "    #upgradation - increament / decrement \n",
    "    num = num+1\n",
    "\n",
    "#final_display\n",
    "print('FACTORIAL to the user assigned number\\n', factorial)"
   ]
  },
  {
   "cell_type": "code",
   "execution_count": 3,
   "id": "4a789e46",
   "metadata": {},
   "outputs": [],
   "source": [
    "#factorial\n"
   ]
  },
  {
   "cell_type": "code",
   "execution_count": null,
   "id": "8d88124b",
   "metadata": {},
   "outputs": [],
   "source": []
  }
 ],
 "metadata": {
  "kernelspec": {
   "display_name": "Python 3 (ipykernel)",
   "language": "python",
   "name": "python3"
  },
  "language_info": {
   "codemirror_mode": {
    "name": "ipython",
    "version": 3
   },
   "file_extension": ".py",
   "mimetype": "text/x-python",
   "name": "python",
   "nbconvert_exporter": "python",
   "pygments_lexer": "ipython3",
   "version": "3.11.5"
  }
 },
 "nbformat": 4,
 "nbformat_minor": 5
}
