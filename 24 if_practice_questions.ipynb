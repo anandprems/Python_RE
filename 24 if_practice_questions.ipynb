{
 "cells": [
  {
   "cell_type": "code",
   "execution_count": 7,
   "id": "14649d21",
   "metadata": {},
   "outputs": [
    {
     "name": "stdout",
     "output_type": "stream",
     "text": [
      "Enter the number:6\n",
      "The given number is EVEN\n"
     ]
    }
   ],
   "source": [
    "#write a python program to find the number is even or odd\n",
    "num = float(input('Enter the number:'))\n",
    "\n",
    "#num/2==0 -> EVEN\n",
    "if (num%2)==0:\n",
    "    print('The given number is EVEN')\n",
    "    \n",
    "else:\n",
    "    print('The given number is ODD')"
   ]
  },
  {
   "cell_type": "code",
   "execution_count": 12,
   "id": "228655d9",
   "metadata": {},
   "outputs": [
    {
     "name": "stdout",
     "output_type": "stream",
     "text": [
      "Enter the year:1800\n",
      "The given normal year is a LEAP year!\n"
     ]
    }
   ],
   "source": [
    "#write a python program to calculate the leap year or not\n",
    "\n",
    "year = int(input('Enter the year:'))\n",
    "\n",
    "\"\"\"https://en.wikipedia.org/wiki/Leap_year#:~:text=Every%20year%20that%20is%20exactly,years%201600%20and%202000%20are.\"\"\"\n",
    "#year 2001, 2003, 2024 --> year/4=0\n",
    "#century 1800, 1900, 2000... --> year/400 and year /100\n",
    "\n",
    "if (year%400 ==0) and (year%100==0):\n",
    "    # True and True = True\n",
    "    # True and False = False\n",
    "    # False and True = False\n",
    "    # False and False = False\n",
    "    print('The given centuray year is a LEAP year!')\n",
    "    \n",
    "elif (year %4 ==0):\n",
    "    print('The given normal year is a LEAP year!')\n",
    "    \n",
    "else:\n",
    "    print('The given year is NOT a LEAP year')"
   ]
  },
  {
   "cell_type": "code",
   "execution_count": 19,
   "id": "e8bf9d68",
   "metadata": {},
   "outputs": [
    {
     "name": "stdout",
     "output_type": "stream",
     "text": [
      "Enter the first number:35\n",
      "Enter the second number:45\n",
      "Enter the third number:45\n",
      "NUM2 is the LARGEST\n"
     ]
    }
   ],
   "source": [
    "# write a python program to calculate the largest among three numbers\n",
    "num1 = float(input('Enter the first number:'))\n",
    "num2 = float(input('Enter the second number:'))\n",
    "num3 = float(input('Enter the third number:'))\n",
    "\n",
    "#num1: num1 > num2 and  num1 > num3\n",
    "#num2: num2 > num1 and num2 > num3\n",
    "#num3: \n",
    "\n",
    "if (num1 >= num2) and (num1 >= num3):\n",
    "    print('NUM1 is the LARGEST')\n",
    "\n",
    "elif (num2 >= num1) and (num2 >= num3):\n",
    "    print('NUM2 is the LARGEST')\n",
    "\n",
    "else:\n",
    "    print('NUM3 is the LARGEST')"
   ]
  },
  {
   "cell_type": "code",
   "execution_count": null,
   "id": "55cb0e51",
   "metadata": {},
   "outputs": [],
   "source": []
  }
 ],
 "metadata": {
  "kernelspec": {
   "display_name": "Python 3 (ipykernel)",
   "language": "python",
   "name": "python3"
  },
  "language_info": {
   "codemirror_mode": {
    "name": "ipython",
    "version": 3
   },
   "file_extension": ".py",
   "mimetype": "text/x-python",
   "name": "python",
   "nbconvert_exporter": "python",
   "pygments_lexer": "ipython3",
   "version": "3.11.5"
  }
 },
 "nbformat": 4,
 "nbformat_minor": 5
}
