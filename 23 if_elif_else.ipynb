{
 "cells": [
  {
   "cell_type": "markdown",
   "id": "dc1641b4",
   "metadata": {},
   "source": [
    "# if statement"
   ]
  },
  {
   "cell_type": "markdown",
   "id": "fe250a4d",
   "metadata": {},
   "source": [
    "if True:\n",
    "  print('If block will execute!')"
   ]
  },
  {
   "cell_type": "code",
   "execution_count": 3,
   "id": "f9f06fcc",
   "metadata": {},
   "outputs": [
    {
     "name": "stdout",
     "output_type": "stream",
     "text": [
      "The condition was true!\n"
     ]
    }
   ],
   "source": [
    "x = 5\n",
    "if (x > 4):\n",
    "    print(\"The condition was true!\")"
   ]
  },
  {
   "cell_type": "code",
   "execution_count": 4,
   "id": "00bcdb07",
   "metadata": {},
   "outputs": [
    {
     "name": "stdout",
     "output_type": "stream",
     "text": [
      "5 is a positive number.\n",
      "This is always printed.\n"
     ]
    }
   ],
   "source": [
    "# If the number is positive, we print an appropriate message\n",
    "num = 5\n",
    "if num > 0:\n",
    "    print(num, \"is a positive number.\")\n",
    "print(\"This is always printed.\")"
   ]
  },
  {
   "cell_type": "code",
   "execution_count": null,
   "id": "3788e70f",
   "metadata": {},
   "outputs": [],
   "source": [
    "# If the number is positive, we print an appropriate message\n",
    "num = -3\n",
    "if num > 0:\n",
    "    print(num, \"is a positive number.\")\n",
    "print(\"This is always printed.\")"
   ]
  },
  {
   "cell_type": "markdown",
   "id": "69bf1013",
   "metadata": {},
   "source": [
    "# if.. else.. statement"
   ]
  },
  {
   "cell_type": "raw",
   "id": "4f429067",
   "metadata": {},
   "source": [
    "if not True:\n",
    "  print('If statement will execute!')\n",
    "else:\n",
    "  print('Else statement will execute!')"
   ]
  },
  {
   "cell_type": "code",
   "execution_count": 5,
   "id": "a53eecd5",
   "metadata": {},
   "outputs": [
    {
     "name": "stdout",
     "output_type": "stream",
     "text": [
      "The condition wasn't true!\n"
     ]
    }
   ],
   "source": [
    "y = 3\n",
    "\n",
    "if y > 4:\n",
    "  print(\"I won't print!\") #this statement does not execute\n",
    "else:\n",
    "  print(\"The condition wasn't true!\") #this statement executes "
   ]
  },
  {
   "cell_type": "code",
   "execution_count": 6,
   "id": "0291bd3b",
   "metadata": {},
   "outputs": [
    {
     "name": "stdout",
     "output_type": "stream",
     "text": [
      "Positive or Zero\n"
     ]
    }
   ],
   "source": [
    "# Program checks if the number is positive or negative\n",
    "# And displays an appropriate message\n",
    "num = 0\n",
    "if num >= 0:\n",
    "    print(\"Positive or Zero\")\n",
    "else:\n",
    "    print(\"Negative number\")\n"
   ]
  },
  {
   "cell_type": "code",
   "execution_count": 7,
   "id": "8958560c",
   "metadata": {},
   "outputs": [
    {
     "name": "stdout",
     "output_type": "stream",
     "text": [
      "Negative number\n"
     ]
    }
   ],
   "source": [
    "# Program checks if the number is positive or negative\n",
    "# And displays an appropriate message\n",
    "num = -3.2\n",
    "if num >= 0:\n",
    "    print(\"Positive or Zero\")\n",
    "else:\n",
    "    print(\"Negative number\")"
   ]
  },
  {
   "cell_type": "markdown",
   "id": "3477e2ca",
   "metadata": {},
   "source": [
    "# if.. elif.. else statement"
   ]
  },
  {
   "cell_type": "code",
   "execution_count": null,
   "id": "84ce598f",
   "metadata": {},
   "outputs": [],
   "source": [
    "z = 7\n",
    "\n",
    "if z > 8:\n",
    "  print(\"I won't print!\") #this statement does not execute\n",
    "elif z > 5:\n",
    "  print(\"I will!\") #this statement will execute\n",
    "elif z > 6:\n",
    "  print(\"I also won't print!\") #this statement does not execute\n",
    "else:\n",
    "  print(\"Neither will I!\") #this statement does not execute"
   ]
  },
  {
   "cell_type": "code",
   "execution_count": null,
   "id": "2e081813",
   "metadata": {},
   "outputs": [],
   "source": [
    "'''In this program, we check if the number is positive or\n",
    "negative or zero and display an appropriate message'''\n",
    "num = 12.8\n",
    "if num > 0:\n",
    "    print(\"Positive number\")\n",
    "elif num == 0:\n",
    "    print(\"Zero\")\n",
    "else:\n",
    "    print(\"Negative number\")"
   ]
  },
  {
   "cell_type": "code",
   "execution_count": 8,
   "id": "27f2f5b6",
   "metadata": {},
   "outputs": [
    {
     "name": "stdout",
     "output_type": "stream",
     "text": [
      "Zero\n"
     ]
    }
   ],
   "source": [
    "'''In this program, we check if the number is positive or\n",
    "negative or zero and display an appropriate message'''\n",
    "num = 0.0\n",
    "if num > 0:\n",
    "    print(\"Positive number\")\n",
    "elif num == 0:\n",
    "    print(\"Zero\")\n",
    "else:\n",
    "    print(\"Negative number\")"
   ]
  },
  {
   "cell_type": "code",
   "execution_count": 9,
   "id": "79669b78",
   "metadata": {},
   "outputs": [
    {
     "name": "stdout",
     "output_type": "stream",
     "text": [
      "Negative number\n"
     ]
    }
   ],
   "source": [
    "'''In this program, we check if the number is positive or\n",
    "negative or zero and display an appropriate message'''\n",
    "num = -6.2\n",
    "if num > 0:\n",
    "    print(\"Positive number\")\n",
    "elif num == 0:\n",
    "    print(\"Zero\")\n",
    "else:\n",
    "    print(\"Negative number\")"
   ]
  },
  {
   "cell_type": "markdown",
   "id": "b52b00ce",
   "metadata": {},
   "source": [
    "# if nested"
   ]
  },
  {
   "cell_type": "code",
   "execution_count": null,
   "id": "c282b30f",
   "metadata": {},
   "outputs": [],
   "source": [
    "x = 34\n",
    "if x %  2 == 0:  # this is how you create a comment and now, checking for even.\n",
    "  if x > 10:\n",
    "    print(\"This number is even and is greater than 10\")\n",
    "  else:\n",
    "    print(\"This number is even, but not greater 10\")\n",
    "else:\n",
    "  print (\"The number is not even. So point checking further.\")"
   ]
  },
  {
   "cell_type": "code",
   "execution_count": null,
   "id": "0efcb304",
   "metadata": {},
   "outputs": [],
   "source": [
    "'''In this program, we input a number check if the number is positive or\n",
    "negative or zero and display an appropriate message This time we use nested if statement'''\n",
    "num = int(input(\"Enter a number: \"))\n",
    "if num >= 0:\n",
    "    if num == 0:\n",
    "        print(\"Zero\")\n",
    "    else:\n",
    "        print(\"Positive number\")\n",
    "else:\n",
    "    print(\"Negative number\")"
   ]
  },
  {
   "cell_type": "code",
   "execution_count": null,
   "id": "a48004b4",
   "metadata": {},
   "outputs": [],
   "source": [
    "'''In this program, we input a number check if the number is positive or\n",
    "negative or zero and display an appropriate message This time we use nested if statement'''\n",
    "num = int(input(\"Enter a number: \"))\n",
    "if num >= 0:\n",
    "    if num == 0:\n",
    "        print(\"Zero\")\n",
    "    else:\n",
    "        print(\"Positive number\")\n",
    "else:\n",
    "    print(\"Negative number\")"
   ]
  },
  {
   "cell_type": "code",
   "execution_count": null,
   "id": "315b0f19",
   "metadata": {},
   "outputs": [],
   "source": [
    "'''In this program, we input a number check if the number is positive or\n",
    "negative or zero and display an appropriate message This time we use nested if statement'''\n",
    "num = int(input(\"Enter a number: \"))\n",
    "if num >= 0:\n",
    "    if num == 0:\n",
    "        print(\"Zero\")\n",
    "    else:\n",
    "        print(\"Positive number\")\n",
    "else:\n",
    "    print(\"Negative number\")"
   ]
  },
  {
   "cell_type": "markdown",
   "id": "17a2851b",
   "metadata": {},
   "source": [
    "# Inline python if-else statement"
   ]
  },
  {
   "cell_type": "code",
   "execution_count": null,
   "id": "d8d78799",
   "metadata": {},
   "outputs": [],
   "source": [
    "x = 89\n",
    "is_greater = True if x >= 50 else False\n",
    "\n",
    "print(is_greater)"
   ]
  },
  {
   "cell_type": "code",
   "execution_count": null,
   "id": "e2fec5c5",
   "metadata": {},
   "outputs": [],
   "source": []
  }
 ],
 "metadata": {
  "kernelspec": {
   "display_name": "Python 3 (ipykernel)",
   "language": "python",
   "name": "python3"
  },
  "language_info": {
   "codemirror_mode": {
    "name": "ipython",
    "version": 3
   },
   "file_extension": ".py",
   "mimetype": "text/x-python",
   "name": "python",
   "nbconvert_exporter": "python",
   "pygments_lexer": "ipython3",
   "version": "3.11.5"
  }
 },
 "nbformat": 4,
 "nbformat_minor": 5
}
