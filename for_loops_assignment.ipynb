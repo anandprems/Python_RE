{
 "cells": [
  {
   "cell_type": "code",
   "execution_count": 5,
   "id": "04ef1e13",
   "metadata": {},
   "outputs": [
    {
     "name": "stdout",
     "output_type": "stream",
     "text": [
      "the square of 1 is: 1\n",
      "the square of 2 is: 4\n",
      "the square of 3 is: 9\n",
      "the square of 4 is: 16\n",
      "the square of 5 is: 25\n"
     ]
    }
   ],
   "source": [
    "#square of a number by using range function till 5\n",
    "\n",
    "for number in range(1,6):\n",
    "    squaring = number **2\n",
    "    #print ('the square of {number} is: {squaring}')\n",
    "    print('the square of {0} is:{1}'.format(number, squaring))"
   ]
  },
  {
   "cell_type": "code",
   "execution_count": 6,
   "id": "3450a52b",
   "metadata": {},
   "outputs": [
    {
     "name": "stdout",
     "output_type": "stream",
     "text": [
      "2 is an even number\n",
      "4 is an even number\n",
      "6 is an even number\n",
      "8 is an even number\n",
      "10 is an even number\n"
     ]
    }
   ],
   "source": [
    "#even numbers by using range function till 10\n",
    "\n",
    "for number1 in range(1,11):\n",
    "    if number1%2 ==0:\n",
    "        print('{0} is an even number'.format(number1))"
   ]
  },
  {
   "cell_type": "code",
   "execution_count": 14,
   "id": "9984f5a3",
   "metadata": {},
   "outputs": [
    {
     "name": "stdout",
     "output_type": "stream",
     "text": [
      "the factorial of 5 is: 120\n"
     ]
    }
   ],
   "source": [
    "#factorial by using for loop\n",
    "\n",
    "number3 = 5\n",
    "factorial_ = 1\n",
    "\n",
    "for number5 in range(1, number3+1):\n",
    "    factorial_ = factorial_*number5\n",
    "    \n",
    "print('the factorial of {0} is: {1}'.format(number3, factorial_))"
   ]
  },
  {
   "cell_type": "code",
   "execution_count": 16,
   "id": "cd8475c4",
   "metadata": {},
   "outputs": [
    {
     "name": "stdout",
     "output_type": "stream",
     "text": [
      "the 50 is NOT PRIME\n",
      "the 51 is NOT PRIME\n",
      "the 52 is NOT PRIME\n",
      "the 53 is PRIME\n",
      "the 54 is NOT PRIME\n",
      "the 55 is NOT PRIME\n",
      "the 56 is NOT PRIME\n",
      "the 57 is NOT PRIME\n",
      "the 58 is NOT PRIME\n",
      "the 59 is PRIME\n",
      "the 60 is NOT PRIME\n",
      "the 61 is PRIME\n",
      "the 62 is NOT PRIME\n",
      "the 63 is NOT PRIME\n",
      "the 64 is NOT PRIME\n",
      "the 65 is NOT PRIME\n",
      "the 66 is NOT PRIME\n",
      "the 67 is PRIME\n",
      "the 68 is NOT PRIME\n",
      "the 69 is NOT PRIME\n",
      "the 70 is NOT PRIME\n",
      "the 71 is PRIME\n",
      "the 72 is NOT PRIME\n",
      "the 73 is PRIME\n",
      "the 74 is NOT PRIME\n",
      "the 75 is NOT PRIME\n",
      "the 76 is NOT PRIME\n",
      "the 77 is NOT PRIME\n",
      "the 78 is NOT PRIME\n",
      "the 79 is PRIME\n",
      "the 80 is NOT PRIME\n",
      "the 81 is NOT PRIME\n",
      "the 82 is NOT PRIME\n",
      "the 83 is PRIME\n",
      "the 84 is NOT PRIME\n",
      "the 85 is NOT PRIME\n",
      "the 86 is NOT PRIME\n",
      "the 87 is NOT PRIME\n",
      "the 88 is NOT PRIME\n",
      "the 89 is PRIME\n",
      "the 90 is NOT PRIME\n",
      "the 91 is NOT PRIME\n",
      "the 92 is NOT PRIME\n",
      "the 93 is NOT PRIME\n",
      "the 94 is NOT PRIME\n",
      "the 95 is NOT PRIME\n",
      "the 96 is NOT PRIME\n",
      "the 97 is PRIME\n",
      "the 98 is NOT PRIME\n",
      "the 99 is NOT PRIME\n",
      "the 100 is NOT PRIME\n"
     ]
    }
   ],
   "source": [
    "#prime or not between 50 to 100 by for loop\n",
    "\n",
    "for num in range(50,101):\n",
    "    is_prime = True #assumption\n",
    "    if num <2:\n",
    "        is_prime=False\n",
    "    else:\n",
    "        for i in range(2, int(num**0.5)+1):\n",
    "            if num%i ==0:\n",
    "                is_prime = False\n",
    "                break\n",
    "                \n",
    "    if is_prime:\n",
    "        print('the {0} is PRIME'.format(num))\n",
    "    else:\n",
    "        print('the {0} is NOT PRIME'.format(num))"
   ]
  },
  {
   "cell_type": "code",
   "execution_count": 18,
   "id": "c5e0bf68",
   "metadata": {},
   "outputs": [
    {
     "name": "stdout",
     "output_type": "stream",
     "text": [
      "1 * 10 = 10\n",
      "2 * 10 = 20\n",
      "3 * 10 = 30\n",
      "4 * 10 = 40\n",
      "5 * 10 = 50\n",
      "6 * 10 = 60\n",
      "7 * 10 = 70\n",
      "8 * 10 = 80\n",
      "9 * 10 = 90\n",
      "10 * 10 = 100\n"
     ]
    }
   ],
   "source": [
    "#multiplication table for 10\n",
    "\n",
    "for number in range(1,11):\n",
    "    table = 10 * number\n",
    "    print('{0} * 10 = {1}'.format(number, table))"
   ]
  },
  {
   "cell_type": "code",
   "execution_count": 24,
   "id": "69a0dcd1",
   "metadata": {},
   "outputs": [
    {
     "name": "stdout",
     "output_type": "stream",
     "text": [
      "The character o appears 13 time in the given string or sentences\n"
     ]
    }
   ],
   "source": [
    "#counting 'o' from the string\n",
    "\n",
    "string_ = 'Python is powerful and versatile languageooooooooooo'\n",
    "\n",
    "counting_char = 'o'\n",
    "count = 0\n",
    "\n",
    "for char_ in string_:\n",
    "    if char_ == counting_char:\n",
    "        count = count +1\n",
    "        \n",
    "print('The character {0} appears {1} time in the given string or sentences'.format(counting_char,count))"
   ]
  },
  {
   "cell_type": "code",
   "execution_count": null,
   "id": "fc412b0f",
   "metadata": {
    "scrolled": true
   },
   "outputs": [],
   "source": []
  }
 ],
 "metadata": {
  "kernelspec": {
   "display_name": "Python 3 (ipykernel)",
   "language": "python",
   "name": "python3"
  },
  "language_info": {
   "codemirror_mode": {
    "name": "ipython",
    "version": 3
   },
   "file_extension": ".py",
   "mimetype": "text/x-python",
   "name": "python",
   "nbconvert_exporter": "python",
   "pygments_lexer": "ipython3",
   "version": "3.11.5"
  }
 },
 "nbformat": 4,
 "nbformat_minor": 5
}
