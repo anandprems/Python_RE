{
 "cells": [
  {
   "cell_type": "code",
   "execution_count": 1,
   "id": "79d89ed5",
   "metadata": {},
   "outputs": [
    {
     "name": "stdout",
     "output_type": "stream",
     "text": [
      "Enter the number:75\n",
      "The reversed number will be: 57\n"
     ]
    }
   ],
   "source": [
    "#write a python program to reverse the positive integer number from the user\n",
    "\n",
    "user_input = int(input('Enter the number:')) #string-> int\n",
    "\n",
    "#negative integer \n",
    "if user_input<=0:\n",
    "    print('Enter the positive number!')\n",
    "    \n",
    "    #positive number\n",
    "else:\n",
    "    reversed_number =0#suumption\n",
    "    while user_input>0: #+ve condition\n",
    "        digit = user_input%10\n",
    "        reversed_number = reversed_number *10+digit\n",
    "        user_input = user_input//10\n",
    "        \n",
    "    print('The reversed number will be:',reversed_number)"
   ]
  },
  {
   "cell_type": "code",
   "execution_count": 3,
   "id": "994cf27d",
   "metadata": {},
   "outputs": [
    {
     "name": "stdout",
     "output_type": "stream",
     "text": [
      "Enter the number:75\n",
      "The reversed number will be: 57\n",
      "the number is not a PALINDROME!\n"
     ]
    }
   ],
   "source": [
    "#write a python program to check for the palindrome condition\n",
    "\n",
    "user_input = int(input('Enter the number:')) \n",
    "\n",
    "if user_input<=0:\n",
    "    print('Enter the positive number!')\n",
    "    \n",
    "else:\n",
    "    orginal_number = user_input\n",
    "    reversed_number =0\n",
    "    while user_input>0:\n",
    "        digit = user_input%10\n",
    "        reversed_number = reversed_number *10+digit\n",
    "        user_input = user_input//10\n",
    "        \n",
    "    print('The reversed number will be:',reversed_number)\n",
    "    \n",
    "    if orginal_number ==reversed_number:\n",
    "        print('the number is a PALINDROME!')\n",
    "        \n",
    "    else: \n",
    "        print('the number is not a PALINDROME!')"
   ]
  },
  {
   "cell_type": "code",
   "execution_count": 4,
   "id": "57de4cf4",
   "metadata": {},
   "outputs": [
    {
     "name": "stdout",
     "output_type": "stream",
     "text": [
      "Enter the number:12345\n",
      "15\n"
     ]
    }
   ],
   "source": [
    "#write a python program to calculate the sum of the digits in positive integer\n",
    "\n",
    "user_input = int(input('Enter the number:')) \n",
    "\n",
    "if user_input<=0:\n",
    "    print('Enter the positive number!')\n",
    "    \n",
    "else:\n",
    "    orginal_number = user_input\n",
    "    reversed_number =0\n",
    "    while user_input>0:\n",
    "        digit = user_input%10\n",
    "        reversed_number = reversed_number+digit\n",
    "        user_input = user_input//10\n",
    "        \n",
    "    print(reversed_number)\n"
   ]
  },
  {
   "cell_type": "code",
   "execution_count": 6,
   "id": "1a5988b8",
   "metadata": {},
   "outputs": [
    {
     "name": "stdout",
     "output_type": "stream",
     "text": [
      "Enter the number:8989\n",
      "9\n"
     ]
    }
   ],
   "source": [
    "#find the largest digit of the positive integer \n",
    "\n",
    "user_input = int(input('Enter the number:')) \n",
    "\n",
    "if user_input<=0:\n",
    "    print('Enter the positive number!')\n",
    "    \n",
    "else:\n",
    "    orginal_number = user_input\n",
    "    reversed_number =0\n",
    "    \n",
    "    while user_input>0:\n",
    "        digit = user_input%10\n",
    "        reversed_number = max(reversed_number, digit)\n",
    "        user_input = user_input//10\n",
    "        \n",
    "    print(reversed_number)"
   ]
  },
  {
   "cell_type": "code",
   "execution_count": 7,
   "id": "8d56fcf8",
   "metadata": {},
   "outputs": [
    {
     "name": "stdout",
     "output_type": "stream",
     "text": [
      "Enter the number:12\n",
      "2\n"
     ]
    }
   ],
   "source": [
    "#write a python program to count the digits in the positive number\n",
    "\n",
    "user_input = int(input('Enter the number:')) \n",
    "\n",
    "if user_input<=0:\n",
    "    print('Enter the positive number!')\n",
    "    \n",
    "else:\n",
    "    orginal_number = user_input\n",
    "    reversed_number =0\n",
    "    \n",
    "    while user_input>0:\n",
    "        digit = user_input%10\n",
    "        reversed_number = reversed_number +1\n",
    "        user_input = user_input//10\n",
    "        \n",
    "    print(reversed_number)"
   ]
  },
  {
   "cell_type": "code",
   "execution_count": 14,
   "id": "bf0f290a",
   "metadata": {},
   "outputs": [
    {
     "name": "stdout",
     "output_type": "stream",
     "text": [
      "1\n",
      "6\n",
      "11\n",
      "16\n"
     ]
    }
   ],
   "source": [
    "for i in range(1,20,5):\n",
    "    print(i)"
   ]
  },
  {
   "cell_type": "code",
   "execution_count": null,
   "id": "caaf6dfa",
   "metadata": {},
   "outputs": [],
   "source": []
  }
 ],
 "metadata": {
  "kernelspec": {
   "display_name": "Python 3 (ipykernel)",
   "language": "python",
   "name": "python3"
  },
  "language_info": {
   "codemirror_mode": {
    "name": "ipython",
    "version": 3
   },
   "file_extension": ".py",
   "mimetype": "text/x-python",
   "name": "python",
   "nbconvert_exporter": "python",
   "pygments_lexer": "ipython3",
   "version": "3.11.5"
  }
 },
 "nbformat": 4,
 "nbformat_minor": 5
}
