{
 "cells": [
  {
   "cell_type": "code",
   "execution_count": 1,
   "id": "27ba5475",
   "metadata": {},
   "outputs": [
    {
     "name": "stdout",
     "output_type": "stream",
     "text": [
      "I am learning python programming language!\n"
     ]
    }
   ],
   "source": [
    "#1.\tWrite a python program to display the word ‘I am learning python programming language!’\n",
    "print('I am learning python programming language!')"
   ]
  },
  {
   "cell_type": "code",
   "execution_count": 1,
   "id": "3d9fefed",
   "metadata": {},
   "outputs": [
    {
     "name": "stdout",
     "output_type": "stream",
     "text": [
      "enter the first number10\n",
      "enter the second number20\n",
      "Addition of two numbers 10 and 20 is 30\n"
     ]
    }
   ],
   "source": [
    "# 2.Write a python program for the addition of two numbers, condition here is you need to get the numbers from user and \n",
    "#display the output with the statement ‘Addition of two numbers 10 and 25 is 35’\n",
    "\n",
    "num1 = int(input('enter the first number')) # in strings  10, '10'->10\n",
    "num2 = int(input('enter the second number')) # output is in strings\n",
    "\n",
    "adds = num1 + num2\n",
    "\n",
    "print('Addition of two numbers {} and {} is {}'.format(num1, num2, adds))"
   ]
  },
  {
   "cell_type": "code",
   "execution_count": 6,
   "id": "7b4e4930",
   "metadata": {},
   "outputs": [
    {
     "name": "stdout",
     "output_type": "stream",
     "text": [
      "Addition of two numbers 10 and 25 is 35\n"
     ]
    }
   ],
   "source": [
    "#predefined assigned values\n",
    "num1 = 10\n",
    "num2 = 25\n",
    "\n",
    "adds = num1 + num2\n",
    "\n",
    "print('Addition of two numbers {} and {} is {}'.format(num1, num2, adds))"
   ]
  },
  {
   "cell_type": "code",
   "execution_count": 9,
   "id": "bd031726",
   "metadata": {},
   "outputs": [],
   "source": [
    "tuples = (1,)"
   ]
  },
  {
   "cell_type": "code",
   "execution_count": 10,
   "id": "a9c76715",
   "metadata": {},
   "outputs": [
    {
     "data": {
      "text/plain": [
       "tuple"
      ]
     },
     "execution_count": 10,
     "metadata": {},
     "output_type": "execute_result"
    }
   ],
   "source": [
    "type(tuples)"
   ]
  },
  {
   "cell_type": "code",
   "execution_count": 15,
   "id": "8523754d",
   "metadata": {},
   "outputs": [
    {
     "data": {
      "text/plain": [
       "set"
      ]
     },
     "execution_count": 15,
     "metadata": {},
     "output_type": "execute_result"
    }
   ],
   "source": [
    "a = {1,2}\n",
    "type(a)"
   ]
  },
  {
   "cell_type": "code",
   "execution_count": null,
   "id": "77ec123b",
   "metadata": {},
   "outputs": [],
   "source": []
  }
 ],
 "metadata": {
  "kernelspec": {
   "display_name": "Python 3 (ipykernel)",
   "language": "python",
   "name": "python3"
  },
  "language_info": {
   "codemirror_mode": {
    "name": "ipython",
    "version": 3
   },
   "file_extension": ".py",
   "mimetype": "text/x-python",
   "name": "python",
   "nbconvert_exporter": "python",
   "pygments_lexer": "ipython3",
   "version": "3.11.5"
  }
 },
 "nbformat": 4,
 "nbformat_minor": 5
}
