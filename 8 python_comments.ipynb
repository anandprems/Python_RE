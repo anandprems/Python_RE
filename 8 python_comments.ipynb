{
 "cells": [
  {
   "cell_type": "code",
   "execution_count": 1,
   "id": "6353d40a",
   "metadata": {},
   "outputs": [
    {
     "name": "stdout",
     "output_type": "stream",
     "text": [
      "hello world!\n"
     ]
    }
   ],
   "source": [
    "# print the statement\n",
    "print(\"hello world!\")"
   ]
  },
  {
   "cell_type": "code",
   "execution_count": 2,
   "id": "67836c63",
   "metadata": {},
   "outputs": [],
   "source": [
    "#assigning variable values\n",
    "num1 = 10\n",
    "num2 = 15\n",
    "#addition of two numbers\n",
    "add = num1 + num2"
   ]
  },
  {
   "cell_type": "code",
   "execution_count": 3,
   "id": "eff65029",
   "metadata": {},
   "outputs": [
    {
     "name": "stdout",
     "output_type": "stream",
     "text": [
      "25\n"
     ]
    }
   ],
   "source": [
    "#printing the output\n",
    "print(add)"
   ]
  },
  {
   "cell_type": "code",
   "execution_count": 5,
   "id": "663a0919",
   "metadata": {},
   "outputs": [
    {
     "name": "stdout",
     "output_type": "stream",
     "text": [
      "addition output: 15\n",
      "multiplication output: 80\n"
     ]
    }
   ],
   "source": [
    "#here we are doing more calculation\n",
    "#first we need to assign variables with\n",
    "#values for three varaibles namely\n",
    "#a, b, c\n",
    "a = 2\n",
    "b = 5\n",
    "c = 8\n",
    "#addition of variables\n",
    "d = a+ b+ c\n",
    "#multiplication of variables\n",
    "e = a*b*c\n",
    "#printing addition output\n",
    "print('addition output:', d)\n",
    "#printing multiplication output\n",
    "print('multiplication output:',e)"
   ]
  },
  {
   "cell_type": "code",
   "execution_count": null,
   "id": "7eff5799",
   "metadata": {},
   "outputs": [],
   "source": []
  }
 ],
 "metadata": {
  "kernelspec": {
   "display_name": "Python 3 (ipykernel)",
   "language": "python",
   "name": "python3"
  },
  "language_info": {
   "codemirror_mode": {
    "name": "ipython",
    "version": 3
   },
   "file_extension": ".py",
   "mimetype": "text/x-python",
   "name": "python",
   "nbconvert_exporter": "python",
   "pygments_lexer": "ipython3",
   "version": "3.11.5"
  }
 },
 "nbformat": 4,
 "nbformat_minor": 5
}
