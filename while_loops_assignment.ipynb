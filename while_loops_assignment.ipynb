{
 "cells": [
  {
   "cell_type": "code",
   "execution_count": 1,
   "id": "bfadab81",
   "metadata": {},
   "outputs": [
    {
     "name": "stdout",
     "output_type": "stream",
     "text": [
      "Enter the positive number:789\n",
      "The reverse number is:\n",
      " 987\n"
     ]
    }
   ],
   "source": [
    "#write a python program to reverse the given positive integer \n",
    "\n",
    "#get the input from the user\n",
    "input_number = int(input('Enter the positive number:'))\n",
    "\n",
    "#check the number for positive or negative\n",
    "if input_number <=0:\n",
    "    print('Enter the positive number alone!')\n",
    "    \n",
    "else:\n",
    "    reversed_number = 0\n",
    "    \n",
    "    while input_number>0:\n",
    "        ind_digit = input_number%10\n",
    "        reversed_number = reversed_number*10+ind_digit\n",
    "        input_number = input_number//10\n",
    "        \n",
    "print('The reverse number is:\\n', reversed_number)"
   ]
  },
  {
   "cell_type": "code",
   "execution_count": 12,
   "id": "3020bd76",
   "metadata": {},
   "outputs": [
    {
     "name": "stdout",
     "output_type": "stream",
     "text": [
      "Enter the positive number:12345\n",
      "The given number is NOT PALINDROME\n"
     ]
    }
   ],
   "source": [
    "#write a python program to find the given positive integer is a palindrome or not\n",
    "\n",
    "\n",
    "#get the input from the user\n",
    "input_number = int(input('Enter the positive number:'))\n",
    "\n",
    "#check if the number is +ve or -ve\n",
    "if input_number<=0:\n",
    "    print('Enter the positive number!')\n",
    "    \n",
    "else:\n",
    "    orginal_num = input_number \n",
    "    reversed_number = 0\n",
    "    \n",
    "    while input_number>0:\n",
    "        ind_digit = input_number%10\n",
    "        reversed_number = reversed_number*10+ind_digit\n",
    "        input_number = input_number//10\n",
    "        \n",
    "    if orginal_num == reversed_number:\n",
    "        print('The given number is PALINDROME')\n",
    "    else:\n",
    "        print('The given number is NOT PALINDROME')"
   ]
  },
  {
   "cell_type": "code",
   "execution_count": 15,
   "id": "9f3a4c41",
   "metadata": {},
   "outputs": [
    {
     "name": "stdout",
     "output_type": "stream",
     "text": [
      "Enter the positive number:45\n",
      "the sum of digits in number: 9\n"
     ]
    }
   ],
   "source": [
    "#write a python program to find the sumof digits in the positive integer\n",
    "\n",
    "#get the input from user\n",
    "int_number = int(input('Enter the positive number:'))\n",
    "\n",
    "#check if the number is +ve or -ve\n",
    "if int_number<=0:\n",
    "    print('Enter the positive number!')\n",
    "    \n",
    "else:\n",
    "    digit_ind = 0\n",
    "    orginal_number = int_number\n",
    "    \n",
    "    while int_number>0:\n",
    "        ind_digit = int_number%10\n",
    "        digit_ind = digit_ind+ind_digit\n",
    "        int_number = int_number//10\n",
    "        \n",
    "    print('the sum of digits in number:', digit_ind)"
   ]
  },
  {
   "cell_type": "code",
   "execution_count": 16,
   "id": "599099e9",
   "metadata": {},
   "outputs": [
    {
     "name": "stdout",
     "output_type": "stream",
     "text": [
      "Enter the positive number:456\n",
      "the sum of digits in number: 6\n"
     ]
    }
   ],
   "source": [
    "#Write the python ptogram to cal the largest digits in the positive integer\n",
    "\n",
    "#get the input from user\n",
    "int_number = int(input('Enter the positive number:'))\n",
    "\n",
    "#check if the number is +ve or -ve\n",
    "if int_number<=0:\n",
    "    print('Enter the positive number!')\n",
    "    \n",
    "else:\n",
    "    largest_num = 0\n",
    "    orginal_number = int_number\n",
    "    \n",
    "    while int_number>0:\n",
    "        ind_digit = int_number%10\n",
    "        largest_num = max(largest_num, ind_digit)\n",
    "        int_number = int_number//10\n",
    "        \n",
    "    print('the sum of digits in number:', largest_num)"
   ]
  },
  {
   "cell_type": "code",
   "execution_count": 18,
   "id": "d0b92579",
   "metadata": {},
   "outputs": [
    {
     "name": "stdout",
     "output_type": "stream",
     "text": [
      "Enter the positive number:45612\n",
      "the sum of digits in number: 5\n"
     ]
    }
   ],
   "source": [
    "#write a python progam to calculate the sum of digits in the positive numbers\n",
    "\n",
    "#get the input from user\n",
    "int_number = int(input('Enter the positive number:'))\n",
    "\n",
    "#check if the number is +ve or -ve\n",
    "if int_number<=0:\n",
    "    print('Enter the positive number!')\n",
    "    \n",
    "else:\n",
    "    count_digit = 0\n",
    "    orginal_number = int_number\n",
    "    \n",
    "    while int_number>0:\n",
    "        count_digit = count_digit+1\n",
    "        int_number = int_number//10\n",
    "        \n",
    "    print('the sum of digits in number:',count_digit)"
   ]
  },
  {
   "cell_type": "code",
   "execution_count": null,
   "id": "ed9aa812",
   "metadata": {},
   "outputs": [],
   "source": []
  }
 ],
 "metadata": {
  "kernelspec": {
   "display_name": "Python 3 (ipykernel)",
   "language": "python",
   "name": "python3"
  },
  "language_info": {
   "codemirror_mode": {
    "name": "ipython",
    "version": 3
   },
   "file_extension": ".py",
   "mimetype": "text/x-python",
   "name": "python",
   "nbconvert_exporter": "python",
   "pygments_lexer": "ipython3",
   "version": "3.11.5"
  }
 },
 "nbformat": 4,
 "nbformat_minor": 5
}
